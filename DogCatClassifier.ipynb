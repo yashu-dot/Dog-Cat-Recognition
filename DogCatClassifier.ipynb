{
 "cells": [
  {
   "cell_type": "markdown",
   "metadata": {},
   "source": [
    "# - CE4_DCS1302_CatVsDog Classification\n",
    "\n",
    "# - Cat Vs Dog image classification\n",
    "\n",
    "- Dataset used: https://www.tensorflow.org/datasets/catalog/cats_vs_dogs \n"
   ]
  },
  {
   "cell_type": "markdown",
   "metadata": {},
   "source": [
    "## Importing the necessary libraries"
   ]
  },
  {
   "cell_type": "code",
   "execution_count": 392,
   "metadata": {},
   "outputs": [],
   "source": [
    "from keras.preprocessing.image import ImageDataGenerator, load_img\n",
    "from keras.models import Sequential\n",
    "from keras.layers import Conv2D, MaxPooling2D\n",
    "from keras.layers import Activation, Dropout, Flatten, Dense\n",
    "from keras import backend as K\n",
    "\n",
    "\n",
    "from keras.models import load_model\n",
    "from keras.preprocessing import image\n",
    "import numpy as np\n",
    "from os import listdir\n",
    "from os.path import isfile, join"
   ]
  },
  {
   "cell_type": "code",
   "execution_count": 393,
   "metadata": {},
   "outputs": [],
   "source": [
    "train_data_dir = 'C:/Users/G Navyadharagana Sai/Desktop/AIML_Intern/DogCat/image_data/training'\n",
    "validation_data_dir = 'C:/Users/G Navyadharagana Sai/Desktop/AIML_Intern/DogCat/image_data/validation'\n",
    "\n",
    "train_samples = 2000\n",
    "validation_samples = 800\n",
    "batch_size = 16\n",
    "epochs = 50\n",
    "img_height = 150\n",
    "img_width = 150"
   ]
  },
  {
   "cell_type": "markdown",
   "metadata": {},
   "source": [
    "### Implementing CNN mdoel using keras"
   ]
  },
  {
   "cell_type": "code",
   "execution_count": 426,
   "metadata": {},
   "outputs": [
    {
     "name": "stdout",
     "output_type": "stream",
     "text": [
      "Model: \"sequential_22\"\n",
      "_________________________________________________________________\n",
      "Layer (type)                 Output Shape              Param #   \n",
      "=================================================================\n",
      "conv2d_62 (Conv2D)           (None, 148, 148, 32)      896       \n",
      "_________________________________________________________________\n",
      "activation_100 (Activation)  (None, 148, 148, 32)      0         \n",
      "_________________________________________________________________\n",
      "max_pooling2d_62 (MaxPooling (None, 74, 74, 32)        0         \n",
      "_________________________________________________________________\n",
      "conv2d_63 (Conv2D)           (None, 72, 72, 32)        9248      \n",
      "_________________________________________________________________\n",
      "activation_101 (Activation)  (None, 72, 72, 32)        0         \n",
      "_________________________________________________________________\n",
      "max_pooling2d_63 (MaxPooling (None, 36, 36, 32)        0         \n",
      "_________________________________________________________________\n",
      "conv2d_64 (Conv2D)           (None, 34, 34, 64)        18496     \n",
      "_________________________________________________________________\n",
      "activation_102 (Activation)  (None, 34, 34, 64)        0         \n",
      "_________________________________________________________________\n",
      "max_pooling2d_64 (MaxPooling (None, 17, 17, 64)        0         \n",
      "_________________________________________________________________\n",
      "flatten_20 (Flatten)         (None, 18496)             0         \n",
      "_________________________________________________________________\n",
      "dense_39 (Dense)             (None, 64)                1183808   \n",
      "_________________________________________________________________\n",
      "activation_103 (Activation)  (None, 64)                0         \n",
      "_________________________________________________________________\n",
      "dropout_20 (Dropout)         (None, 64)                0         \n",
      "_________________________________________________________________\n",
      "dense_40 (Dense)             (None, 1)                 65        \n",
      "_________________________________________________________________\n",
      "activation_104 (Activation)  (None, 1)                 0         \n",
      "=================================================================\n",
      "Total params: 1,212,513\n",
      "Trainable params: 1,212,513\n",
      "Non-trainable params: 0\n",
      "_________________________________________________________________\n"
     ]
    }
   ],
   "source": [
    "classifier = Sequential()\n",
    "classifier.add(Conv2D(32, (3, 3), input_shape=(150, 150,3)))\n",
    "classifier.add(Activation('relu'))\n",
    "classifier.add(MaxPooling2D(pool_size=(2, 2)))\n",
    "\n",
    "classifier.add(Conv2D(32, (3, 3)))\n",
    "classifier.add(Activation('relu'))\n",
    "classifier.add(MaxPooling2D(pool_size=(2, 2)))\n",
    "\n",
    "classifier.add(Conv2D(64, (3, 3)))\n",
    "classifier.add(Activation('relu'))\n",
    "classifier.add(MaxPooling2D(pool_size=(2, 2)))\n",
    "\n",
    "classifier.add(Flatten())  # this converts our 3D feature maps to 1D feature vectors\n",
    "classifier.add(Dense(64))\n",
    "classifier.add(Activation('relu'))\n",
    "classifier.add(Dropout(0.5))\n",
    "classifier.add(Dense(1))\n",
    "classifier.add(Activation('sigmoid'))\n",
    "classifier.summary()"
   ]
  },
  {
   "cell_type": "code",
   "execution_count": 404,
   "metadata": {},
   "outputs": [],
   "source": [
    "import keras\n",
    "from keras import optimizers\n",
    "classifier.compile(loss='binary_crossentropy', \n",
    "              optimizer=keras.optimizers.Adam(lr=.0001),\n",
    "              metrics=['accuracy'])"
   ]
  },
  {
   "cell_type": "code",
   "execution_count": 405,
   "metadata": {},
   "outputs": [],
   "source": [
    "train_datagen = ImageDataGenerator(\n",
    "    rescale=1. / 255,\n",
    "    shear_range=0.2,\n",
    "    zoom_range=0.2,\n",
    "    horizontal_flip=True)"
   ]
  },
  {
   "cell_type": "code",
   "execution_count": 406,
   "metadata": {},
   "outputs": [],
   "source": [
    "# this is the augmentation configuration we will use for testing:\n",
    "# only rescaling, avoiding having same training and validation data.\n",
    "test_datagen = ImageDataGenerator(rescale=1. / 255)"
   ]
  },
  {
   "cell_type": "code",
   "execution_count": 407,
   "metadata": {},
   "outputs": [
    {
     "name": "stdout",
     "output_type": "stream",
     "text": [
      "Found 2000 images belonging to 2 classes.\n"
     ]
    }
   ],
   "source": [
    "train_generator = train_datagen.flow_from_directory(\n",
    "    train_data_dir,\n",
    "    target_size=(img_width, img_height),\n",
    "    batch_size=batch_size,\n",
    "    class_mode='binary')"
   ]
  },
  {
   "cell_type": "code",
   "execution_count": 408,
   "metadata": {},
   "outputs": [
    {
     "name": "stdout",
     "output_type": "stream",
     "text": [
      "{'Cat': 0, 'Dog': 1}\n"
     ]
    }
   ],
   "source": [
    "print(train_generator.class_indices)\n",
    "#Checking the number of classes"
   ]
  },
  {
   "cell_type": "code",
   "execution_count": 409,
   "metadata": {},
   "outputs": [],
   "source": [
    "imgs, labels = next(train_generator)"
   ]
  },
  {
   "cell_type": "code",
   "execution_count": 410,
   "metadata": {},
   "outputs": [
    {
     "name": "stdout",
     "output_type": "stream",
     "text": [
      "16\n",
      "0.0\n",
      "1.0\n",
      "0.0\n",
      "1.0\n",
      "1.0\n",
      "1.0\n",
      "0.0\n",
      "1.0\n",
      "1.0\n",
      "0.0\n",
      "1.0\n",
      "1.0\n",
      "0.0\n",
      "1.0\n",
      "1.0\n",
      "1.0\n"
     ]
    }
   ],
   "source": [
    "import matplotlib.pyplot as plt\n",
    "%matplotlib inline\n",
    "image_batch,label_batch = train_generator.next()\n",
    "from PIL import Image\n",
    "print(len(image_batch))\n",
    "for i in range(0,len(image_batch)):\n",
    "    image = image_batch[i]\n",
    "    print(label_batch[i])\n",
    "#     plt.imshow(image)"
   ]
  },
  {
   "cell_type": "code",
   "execution_count": 411,
   "metadata": {},
   "outputs": [
    {
     "name": "stdout",
     "output_type": "stream",
     "text": [
      "Found 800 images belonging to 2 classes.\n"
     ]
    }
   ],
   "source": [
    "validation_generator = test_datagen.flow_from_directory(\n",
    "    validation_data_dir,\n",
    "    target_size=(img_width, img_height),\n",
    "    batch_size=batch_size,\n",
    "    class_mode='binary')"
   ]
  },
  {
   "cell_type": "markdown",
   "metadata": {},
   "source": [
    "## Training"
   ]
  },
  {
   "cell_type": "code",
   "execution_count": 417,
   "metadata": {
    "scrolled": true
   },
   "outputs": [
    {
     "name": "stdout",
     "output_type": "stream",
     "text": [
      "Epoch 1/50\n",
      "125/125 [==============================] - 44s 355ms/step - loss: 0.5947 - accuracy: 0.6910 - val_loss: 0.4387 - val_accuracy: 0.6825\n",
      "Epoch 2/50\n",
      "125/125 [==============================] - 40s 323ms/step - loss: 0.5716 - accuracy: 0.7130 - val_loss: 0.5519 - val_accuracy: 0.6687\n",
      "Epoch 3/50\n",
      "125/125 [==============================] - 41s 326ms/step - loss: 0.5667 - accuracy: 0.7030 - val_loss: 0.5556 - val_accuracy: 0.7075\n",
      "Epoch 4/50\n",
      "125/125 [==============================] - 41s 327ms/step - loss: 0.5542 - accuracy: 0.7275 - val_loss: 0.6576 - val_accuracy: 0.7225\n",
      "Epoch 5/50\n",
      "125/125 [==============================] - 41s 332ms/step - loss: 0.5429 - accuracy: 0.7315 - val_loss: 0.3534 - val_accuracy: 0.7063\n",
      "Epoch 6/50\n",
      "125/125 [==============================] - 41s 328ms/step - loss: 0.5285 - accuracy: 0.7325 - val_loss: 0.5960 - val_accuracy: 0.7225\n",
      "Epoch 7/50\n",
      "125/125 [==============================] - 44s 349ms/step - loss: 0.5213 - accuracy: 0.7455 - val_loss: 0.6189 - val_accuracy: 0.7300\n",
      "Epoch 8/50\n",
      "125/125 [==============================] - 40s 323ms/step - loss: 0.5135 - accuracy: 0.7510 - val_loss: 0.5192 - val_accuracy: 0.7088\n",
      "Epoch 9/50\n",
      "125/125 [==============================] - 41s 331ms/step - loss: 0.5071 - accuracy: 0.7515 - val_loss: 0.4138 - val_accuracy: 0.7262\n",
      "Epoch 10/50\n",
      "125/125 [==============================] - 41s 328ms/step - loss: 0.4917 - accuracy: 0.7525 - val_loss: 0.2500 - val_accuracy: 0.7500\n",
      "Epoch 11/50\n",
      "125/125 [==============================] - 41s 329ms/step - loss: 0.4901 - accuracy: 0.7655 - val_loss: 0.6322 - val_accuracy: 0.7513\n",
      "Epoch 12/50\n",
      "125/125 [==============================] - 41s 330ms/step - loss: 0.4745 - accuracy: 0.7710 - val_loss: 0.5497 - val_accuracy: 0.7287\n",
      "Epoch 13/50\n",
      "125/125 [==============================] - 41s 331ms/step - loss: 0.4781 - accuracy: 0.7730 - val_loss: 0.6114 - val_accuracy: 0.7437\n",
      "Epoch 14/50\n",
      "125/125 [==============================] - 40s 323ms/step - loss: 0.4709 - accuracy: 0.7790 - val_loss: 0.3700 - val_accuracy: 0.7638\n",
      "Epoch 15/50\n",
      "125/125 [==============================] - 41s 327ms/step - loss: 0.4521 - accuracy: 0.7805 - val_loss: 0.4052 - val_accuracy: 0.7462\n",
      "Epoch 16/50\n",
      "125/125 [==============================] - 41s 327ms/step - loss: 0.4584 - accuracy: 0.7805 - val_loss: 0.5782 - val_accuracy: 0.7525\n",
      "Epoch 17/50\n",
      "125/125 [==============================] - 43s 341ms/step - loss: 0.4492 - accuracy: 0.7935 - val_loss: 0.5549 - val_accuracy: 0.7663\n",
      "Epoch 18/50\n",
      "125/125 [==============================] - 40s 324ms/step - loss: 0.4549 - accuracy: 0.7705 - val_loss: 0.5464 - val_accuracy: 0.7225\n",
      "Epoch 19/50\n",
      "125/125 [==============================] - 41s 326ms/step - loss: 0.4418 - accuracy: 0.7935 - val_loss: 0.5395 - val_accuracy: 0.7725\n",
      "Epoch 20/50\n",
      "125/125 [==============================] - 43s 345ms/step - loss: 0.4422 - accuracy: 0.7875 - val_loss: 0.3403 - val_accuracy: 0.7525\n",
      "Epoch 21/50\n",
      "125/125 [==============================] - 41s 327ms/step - loss: 0.4190 - accuracy: 0.8095 - val_loss: 0.4843 - val_accuracy: 0.7600\n",
      "Epoch 22/50\n",
      "125/125 [==============================] - 41s 325ms/step - loss: 0.4283 - accuracy: 0.7995 - val_loss: 0.4544 - val_accuracy: 0.7588\n",
      "Epoch 23/50\n",
      "125/125 [==============================] - 41s 325ms/step - loss: 0.4209 - accuracy: 0.8025 - val_loss: 0.2977 - val_accuracy: 0.7788\n",
      "Epoch 24/50\n",
      "125/125 [==============================] - 41s 325ms/step - loss: 0.4230 - accuracy: 0.8045 - val_loss: 0.5718 - val_accuracy: 0.7613\n",
      "Epoch 25/50\n",
      "125/125 [==============================] - 41s 328ms/step - loss: 0.4075 - accuracy: 0.8135 - val_loss: 0.3262 - val_accuracy: 0.7825\n",
      "Epoch 26/50\n",
      "125/125 [==============================] - 51s 405ms/step - loss: 0.4073 - accuracy: 0.8090 - val_loss: 0.5718 - val_accuracy: 0.7500\n",
      "Epoch 27/50\n",
      "125/125 [==============================] - 41s 331ms/step - loss: 0.4161 - accuracy: 0.8035 - val_loss: 0.7433 - val_accuracy: 0.7475\n",
      "Epoch 28/50\n",
      "125/125 [==============================] - 41s 332ms/step - loss: 0.4047 - accuracy: 0.8145 - val_loss: 0.7195 - val_accuracy: 0.7788\n",
      "Epoch 29/50\n",
      "125/125 [==============================] - 40s 324ms/step - loss: 0.3986 - accuracy: 0.8290 - val_loss: 0.3219 - val_accuracy: 0.7875\n",
      "Epoch 30/50\n",
      "125/125 [==============================] - 41s 329ms/step - loss: 0.3893 - accuracy: 0.8255 - val_loss: 1.3021 - val_accuracy: 0.7550\n",
      "Epoch 31/50\n",
      "125/125 [==============================] - 41s 327ms/step - loss: 0.3824 - accuracy: 0.8190 - val_loss: 0.4796 - val_accuracy: 0.7475\n",
      "Epoch 32/50\n",
      "125/125 [==============================] - 41s 330ms/step - loss: 0.3875 - accuracy: 0.8260 - val_loss: 0.4103 - val_accuracy: 0.7825\n",
      "Epoch 33/50\n",
      "125/125 [==============================] - 40s 323ms/step - loss: 0.3816 - accuracy: 0.8210 - val_loss: 0.4759 - val_accuracy: 0.7837\n",
      "Epoch 34/50\n",
      "125/125 [==============================] - 41s 331ms/step - loss: 0.3668 - accuracy: 0.8345 - val_loss: 0.6888 - val_accuracy: 0.7975\n",
      "Epoch 35/50\n",
      "125/125 [==============================] - 40s 324ms/step - loss: 0.3658 - accuracy: 0.8330 - val_loss: 0.6812 - val_accuracy: 0.7912\n",
      "Epoch 36/50\n",
      "125/125 [==============================] - 40s 324ms/step - loss: 0.3700 - accuracy: 0.8375 - val_loss: 0.4612 - val_accuracy: 0.7887\n",
      "Epoch 37/50\n",
      "125/125 [==============================] - 41s 329ms/step - loss: 0.3643 - accuracy: 0.8300 - val_loss: 0.9695 - val_accuracy: 0.8000\n",
      "Epoch 38/50\n",
      "125/125 [==============================] - 41s 329ms/step - loss: 0.3462 - accuracy: 0.8455 - val_loss: 0.3941 - val_accuracy: 0.8000\n",
      "Epoch 39/50\n",
      "125/125 [==============================] - 41s 327ms/step - loss: 0.3632 - accuracy: 0.8415 - val_loss: 0.2739 - val_accuracy: 0.7900\n",
      "Epoch 40/50\n",
      "125/125 [==============================] - 42s 333ms/step - loss: 0.3463 - accuracy: 0.8460 - val_loss: 0.3057 - val_accuracy: 0.7937\n",
      "Epoch 41/50\n",
      "125/125 [==============================] - 41s 327ms/step - loss: 0.3472 - accuracy: 0.8375 - val_loss: 0.3262 - val_accuracy: 0.7862\n",
      "Epoch 42/50\n",
      "125/125 [==============================] - 41s 324ms/step - loss: 0.3507 - accuracy: 0.8450 - val_loss: 0.4858 - val_accuracy: 0.7850\n",
      "Epoch 43/50\n",
      "125/125 [==============================] - 41s 327ms/step - loss: 0.3226 - accuracy: 0.8595 - val_loss: 0.3423 - val_accuracy: 0.7975\n",
      "Epoch 44/50\n",
      "125/125 [==============================] - 41s 326ms/step - loss: 0.3419 - accuracy: 0.8510 - val_loss: 0.4077 - val_accuracy: 0.8000\n",
      "Epoch 45/50\n",
      "125/125 [==============================] - 41s 325ms/step - loss: 0.3244 - accuracy: 0.8755 - val_loss: 0.6507 - val_accuracy: 0.7850\n",
      "Epoch 46/50\n",
      "125/125 [==============================] - 41s 327ms/step - loss: 0.3242 - accuracy: 0.8615 - val_loss: 0.3239 - val_accuracy: 0.7850\n",
      "Epoch 47/50\n",
      "125/125 [==============================] - 41s 330ms/step - loss: 0.3164 - accuracy: 0.8735 - val_loss: 0.4051 - val_accuracy: 0.8037\n",
      "Epoch 48/50\n",
      "125/125 [==============================] - 42s 336ms/step - loss: 0.3223 - accuracy: 0.8745 - val_loss: 0.2469 - val_accuracy: 0.8025\n",
      "Epoch 49/50\n",
      "125/125 [==============================] - 42s 334ms/step - loss: 0.3145 - accuracy: 0.8740 - val_loss: 0.4949 - val_accuracy: 0.7975\n",
      "Epoch 50/50\n",
      "125/125 [==============================] - 42s 332ms/step - loss: 0.3203 - accuracy: 0.8610 - val_loss: 0.5323 - val_accuracy: 0.7862\n"
     ]
    }
   ],
   "source": [
    "#In fit_generator(), you don't pass the x and y directly, instead they come from a generator.\n",
    "history = classifier.fit_generator(\n",
    "    train_generator,\n",
    "    steps_per_epoch=train_samples // batch_size,\n",
    "    epochs=epochs,\n",
    "    validation_data=validation_generator,\n",
    "    validation_steps=validation_samples // batch_size)"
   ]
  },
  {
   "cell_type": "markdown",
   "metadata": {},
   "source": [
    "## Plotting Loss and Accuracy"
   ]
  },
  {
   "cell_type": "code",
   "execution_count": 427,
   "metadata": {},
   "outputs": [
    {
     "name": "stdout",
     "output_type": "stream",
     "text": [
      "dict_keys(['val_loss', 'val_accuracy', 'loss', 'accuracy'])\n"
     ]
    },
    {
     "data": {
      "image/png": "[encoded data removed]",
      "text/plain": [
       "<Figure size 432x288 with 1 Axes>"
      ]
     },
     "metadata": {
      "needs_background": "light"
     },
     "output_type": "display_data"
    },
    {
     "data": {
      "image/png": "[encoded data removed]",
      "text/plain": [
       "<Figure size 432x288 with 1 Axes>"
      ]
     },
     "metadata": {
      "needs_background": "light"
     },
     "output_type": "display_data"
    },
    {
     "name": "stdout",
     "output_type": "stream",
     "text": [
      "we can observe a accuracy of about 89-90%\n"
     ]
    }
   ],
   "source": [
    "\n",
    "import matplotlib.pyplot as plt\n",
    "%matplotlib inline\n",
    "\n",
    "# list all data in history\n",
    "print(history.history.keys())\n",
    "# summarize history for accuracy\n",
    "plt.plot(history.history['accuracy'])\n",
    "plt.plot(history.history['val_accuracy'])\n",
    "plt.title('model accuracy')\n",
    "plt.ylabel('accuracy')\n",
    "plt.xlabel('epoch')\n",
    "plt.legend(['train', 'test'], loc='upper left')\n",
    "plt.show()\n",
    "# summarize history for loss\n",
    "plt.plot(history.history['loss'])\n",
    "plt.plot(history.history['val_loss'])\n",
    "plt.title('model loss')\n",
    "plt.ylabel('loss')\n",
    "plt.xlabel('epoch')\n",
    "plt.legend(['train', 'test'], loc='upper left')\n",
    "plt.show()\n",
    "print(\"we can observe a accuracy of about 89-90%\")"
   ]
  },
  {
   "cell_type": "markdown",
   "metadata": {},
   "source": [
    "## Testing the model with 5 images of each class"
   ]
  },
  {
   "cell_type": "code",
   "execution_count": 419,
   "metadata": {},
   "outputs": [
    {
     "name": "stdout",
     "output_type": "stream",
     "text": [
      "['19.jpg', '234.jpg', '236.jpg', '2512.jpg', '2658.jpg', '2994.jpg', '310.jpg', '3111.jpg', '3285.jpg', '4.jpg']\n"
     ]
    }
   ],
   "source": [
    "predict_dir_path='image_data/test/'\n",
    "onlyfiles = [f for f in listdir(predict_dir_path) if isfile(join(predict_dir_path, f))]\n",
    "print(onlyfiles)"
   ]
  },
  {
   "cell_type": "code",
   "execution_count": 420,
   "metadata": {},
   "outputs": [
    {
     "name": "stdout",
     "output_type": "stream",
     "text": [
      "19.jpg-->cat\n",
      "234.jpg-->cat\n",
      "236.jpg-->dog\n",
      "2512.jpg-->dog\n",
      "2658.jpg-->cat\n",
      "2994.jpg-->dog\n",
      "310.jpg-->dog\n",
      "3111.jpg-->cat\n",
      "3285.jpg-->dog\n",
      "4.jpg-->dog\n",
      "Total Dogs : 6\n",
      "Total Cats : 4\n"
     ]
    }
   ],
   "source": [
    "from keras.preprocessing import image\n",
    "dog_counter = 0 \n",
    "cat_counter  = 0\n",
    "for file in onlyfiles:\n",
    "    img = image.load_img(predict_dir_path+file, target_size=(img_width, img_height))\n",
    "    x = image.img_to_array(img)\n",
    "    x = np.expand_dims(x, axis=0)\n",
    "    \n",
    "    images = np.vstack([x])\n",
    "    classes = classifier.predict_classes(images, batch_size=10)\n",
    "    classes = classes[0][0]\n",
    "    \n",
    "    if classes == 0:\n",
    "        print(file + \"-->\" + 'cat')\n",
    "        cat_counter += 1\n",
    "    else:\n",
    "        print(file + \"-->\"  + 'dog')\n",
    "        dog_counter += 1\n",
    "print(\"Total Dogs :\",dog_counter)\n",
    "print(\"Total Cats :\",cat_counter)"
   ]
  },
  {
   "cell_type": "markdown",
   "metadata": {},
   "source": [
    "### Saving the model"
   ]
  },
  {
   "cell_type": "code",
   "execution_count": 421,
   "metadata": {},
   "outputs": [
    {
     "name": "stdout",
     "output_type": "stream",
     "text": [
      "model saved to disk....\n"
     ]
    }
   ],
   "source": [
    "import os\n",
    "from keras.models import model_from_json\n",
    "\n",
    "clssf = classifier.to_json()\n",
    "with open(\"CatOrDog.json\", \"w\") as json_file:\n",
    "    json_file.write(clssf)\n",
    "classifier.save_weights(\"CorDweights.h5\")\n",
    "print(\"model saved to disk....\")"
   ]
  },
  {
   "cell_type": "markdown",
   "metadata": {},
   "source": [
    "### Loading the model and perfoming tests"
   ]
  },
  {
   "cell_type": "code",
   "execution_count": 349,
   "metadata": {},
   "outputs": [
    {
     "name": "stdout",
     "output_type": "stream",
     "text": [
      "The model has been done loaded\n"
     ]
    }
   ],
   "source": [
    "json_file = open('CatOrDog.json', 'r')\n",
    "loaded_model_json = json_file.read()\n",
    "json_file.close()\n",
    "loaded_model = model_from_json(loaded_model_json)\n",
    "# load weights into new model\n",
    "loaded_model.load_weights(\"CorDweights.h5\")\n",
    "print(\"The model has been done loaded\")"
   ]
  },
  {
   "cell_type": "code",
   "execution_count": 423,
   "metadata": {},
   "outputs": [
    {
     "name": "stdout",
     "output_type": "stream",
     "text": [
      "['car2.jpg', 'cat.jpg', 'cat3.jpg', 'cat4.jpg', 'cat5.jpg', 'dog.jpg', 'dog2.jpg', 'dog4.jpg', 'dog5.jpg']\n"
     ]
    }
   ],
   "source": [
    "predict_dir_path='image_data/model_test/'\n",
    "tf = [f for f in listdir(predict_dir_path) if isfile(join(predict_dir_path, f))]\n",
    "print(tf)"
   ]
  },
  {
   "cell_type": "code",
   "execution_count": 425,
   "metadata": {},
   "outputs": [
    {
     "name": "stdout",
     "output_type": "stream",
     "text": [
      "car2.jpg-->cat\n",
      "cat.jpg-->cat\n",
      "cat3.jpg-->dog\n",
      "cat4.jpg-->cat\n",
      "cat5.jpg-->cat\n",
      "dog.jpg-->dog\n",
      "dog2.jpg-->dog\n",
      "dog4.jpg-->dog\n",
      "dog5.jpg-->dog\n",
      "Total Dogs : 5\n",
      "Total Cats : 4\n"
     ]
    }
   ],
   "source": [
    "from keras.preprocessing import image\n",
    "dog_counter = 0 \n",
    "cat_counter  = 0\n",
    "for file in onlyfiles:\n",
    "    img = image.load_img(predict_dir_path+file, target_size=(img_width, img_height))\n",
    "    x = image.img_to_array(img)\n",
    "    x = np.expand_dims(x, axis=0)\n",
    "    \n",
    "    images = np.vstack([x])\n",
    "    classes = classifier.predict_classes(images, batch_size=10)\n",
    "    classes = classes[0][0]\n",
    "    \n",
    "    if classes == 0:\n",
    "        print(file + \"-->\" + 'cat')\n",
    "        cat_counter += 1\n",
    "    else:\n",
    "        print(file + \"-->\"  + 'dog')\n",
    "        dog_counter += 1\n",
    "print(\"Total Dogs :\",dog_counter)\n",
    "print(\"Total Cats :\",cat_counter)"
   ]
  },
  {
   "cell_type": "code",
   "execution_count": null,
   "metadata": {},
   "outputs": [],
   "source": []
  },
  {
   "cell_type": "code",
   "execution_count": null,
   "metadata": {},
   "outputs": [],
   "source": []
  }
 ],
 "metadata": {
  "kernelspec": {
   "display_name": "Python 3",
   "language": "python",
   "name": "python3"
  },
  "language_info": {
   "codemirror_mode": {
    "name": "ipython",
    "version": 3
   },
   "file_extension": ".py",
   "mimetype": "text/x-python",
   "name": "python",
   "nbconvert_exporter": "python",
   "pygments_lexer": "ipython3",
   "version": "3.6.5"
  }
 },
 "nbformat": 4,
 "nbformat_minor": 4
}
